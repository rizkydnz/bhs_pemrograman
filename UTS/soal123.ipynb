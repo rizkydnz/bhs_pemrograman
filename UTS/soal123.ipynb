{
 "cells": [
  {
   "cell_type": "markdown",
   "metadata": {},
   "source": [
    "1.Paradigma dalam bahasa Pemrograman adalah Suatu gaya Pemrograman yang mencerminken cara berpikir dan metode yang digunakan untuk menghadapi masalah Pemrograman dan mengatur code Program.\n"
   ]
  },
  {
   "cell_type": "markdown",
   "metadata": {},
   "source": [
    "2.a.Model Data:\n",
    "Model data merujuk pada struktur atau format data yang digunakan dalam program untuk menyimpan dan mengelola informasi. Contohnya seperti integer, float, dan boolean\n",
    "\n",
    "b.Operator:\n",
    "Operator adalah simbol atau kata kunci yang digunakan untuk melakukan operasi pada nilai atau variabel. contoh jenis operator ada 4: Operator Aritmatika, Operator Relasional, Operator Logika, Operator Penugasan\n",
    "\n",
    "c.Seleksi:\n",
    "Seleksi adalah kontrol aliran program yang memungkinkan pengambilan keputusan berdasarkan kondisi tertentu. Struktur seleksi menentukan jalur mana yang akan diikuti program tergantung pada hasil evaluasi kondisi. Bentuk umum seleksi meliputi: if, if-else, switch-case\n",
    "\n",
    "d.Fungsi:\n",
    "Fungsi adalah blok kode yang diberi nama dan dirancang untuk melakukan tugas tertentu. Fungsi memungkinkan pengorganisasian kode menjadi unit-unit modular yang dapat dipanggil berulang kali dengan memberikan input dan menerima output."
   ]
  },
  {
   "cell_type": "markdown",
   "metadata": {},
   "source": [
    "3.Looping statement\n",
    "for(i = 1; i <= n; i++) {\n",
    "    // Blok kode yang akan diulang sebanyak n kali\n",
    "}\n",
    "(i = 1): Dimulai dengan i sama dengan 1.\n",
    "(i <= n): Loop akan terus berjalan selama i kurang dari atau sama dengan n.\n",
    "(i++): Pada akhir setiap iterasi, i akan ditambah 1.\n",
    "\n",
    "OUTPUTNYA\n",
    "    *\n",
    "   **\n",
    "  ***\n",
    " ****\n",
    "*****"
   ]
  }
 ],
 "metadata": {
  "language_info": {
   "name": "python"
  }
 },
 "nbformat": 4,
 "nbformat_minor": 2
}
